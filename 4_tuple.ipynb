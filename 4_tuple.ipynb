{
 "cells": [
  {
   "cell_type": "code",
   "execution_count": 5,
   "metadata": {},
   "outputs": [
    {
     "output_type": "stream",
     "name": "stdout",
     "text": "('apple', 'banana', 'cherry', 'orange', 'kiwi', 'melon', 'mango')\n"
    }
   ],
   "source": [
    "# Tuple : A tuple is a collection which is ordered and unchangeable. In Python tuples are written with round brackets.\n",
    "thistuple = (\"apple\",\"banana\",\"cherry\",\"orange\", \"kiwi\", \"melon\", \"mango\")\n",
    "print(thistuple)"
   ]
  },
  {
   "cell_type": "code",
   "execution_count": 6,
   "metadata": {},
   "outputs": [
    {
     "output_type": "stream",
     "name": "stdout",
     "text": "kiwi\n"
    }
   ],
   "source": [
    "# Access Tuple Items\n",
    "print(thistuple[4])"
   ]
  },
  {
   "cell_type": "code",
   "execution_count": 8,
   "metadata": {},
   "outputs": [
    {
     "output_type": "stream",
     "name": "stdout",
     "text": "orange\n"
    }
   ],
   "source": [
    "# Negative Indexing\n",
    "print(thistuple[-4])"
   ]
  },
  {
   "cell_type": "code",
   "execution_count": 13,
   "metadata": {},
   "outputs": [
    {
     "output_type": "stream",
     "name": "stdout",
     "text": "('cherry', 'orange')\n('apple', 'cherry', 'kiwi')\n"
    }
   ],
   "source": [
    "# Range of Indexes\n",
    "print(thistuple[2:4])\n",
    "print(thistuple[0:6:2])"
   ]
  },
  {
   "cell_type": "code",
   "execution_count": 15,
   "metadata": {},
   "outputs": [
    {
     "output_type": "stream",
     "name": "stdout",
     "text": "('cherry', 'orange', 'kiwi')\n('banana', 'orange', 'melon')\n"
    }
   ],
   "source": [
    "# Range of Negative Indexes\n",
    "print(thistuple[-5:-2])\n",
    "print(thistuple[-6:-1:2])"
   ]
  },
  {
   "cell_type": "code",
   "execution_count": 19,
   "metadata": {},
   "outputs": [
    {
     "output_type": "stream",
     "name": "stdout",
     "text": "('apple', 'nut', 'cherry', 'orange', 'kiwi', 'melon', 'mango')\n"
    }
   ],
   "source": [
    "# Change Tuple Values :Tuples are unchangeable, or immutable as it also is called. But there is a workaround. You can convert the tuple into a list, change the list, and convert the list back into a tuple.\n",
    "list2 = list(thistuple)\n",
    "list2[1] = \"nut\"\n",
    "new_tuple = tuple(list2)\n",
    "print(new_tuple)\n"
   ]
  },
  {
   "cell_type": "code",
   "execution_count": 20,
   "metadata": {},
   "outputs": [
    {
     "output_type": "stream",
     "name": "stdout",
     "text": "apple\nbanana\ncherry\norange\nkiwi\nmelon\nmango\n"
    }
   ],
   "source": [
    "# Loop Through a Tuple: Iterate through the items and print the values\n",
    "for i in thistuple:\n",
    "    print(i)"
   ]
  },
  {
   "cell_type": "code",
   "execution_count": 21,
   "metadata": {},
   "outputs": [
    {
     "output_type": "stream",
     "name": "stdout",
     "text": "Yes, apple\n"
    }
   ],
   "source": [
    "# Check if Item Exists\n",
    "if \"apple\" in thistuple:\n",
    "    print(\"Yes, 'apple' is in the fruits tuple\")"
   ]
  },
  {
   "cell_type": "code",
   "execution_count": 25,
   "metadata": {},
   "outputs": [
    {
     "output_type": "stream",
     "name": "stdout",
     "text": "7\n6\n5\n"
    }
   ],
   "source": [
    "# Tuple Length\n",
    "print(len(thistuple))\n",
    "print(len(thistuple[2]))\n",
    "print(len(thistuple[-2]))"
   ]
  },
  {
   "cell_type": "code",
   "execution_count": 27,
   "metadata": {},
   "outputs": [
    {
     "output_type": "stream",
     "name": "stdout",
     "text": "('apple',)\n"
    }
   ],
   "source": [
    "my_tuple = (\"apple\",)\n",
    "print(my_tuple)"
   ]
  },
  {
   "cell_type": "code",
   "execution_count": 35,
   "metadata": {},
   "outputs": [
    {
     "output_type": "stream",
     "name": "stdout",
     "text": "('1', '2', '3', '4', '5', '6', '7', '8')\n"
    }
   ],
   "source": [
    "# Join Two Tuples\n",
    "tuple1 = (\"1\",\"2\",\"3\",\"4\")\n",
    "tuple2 = (\"5\",\"6\",\"7\",\"8\")\n",
    "tuple3 = tuple1 + tuple2\n",
    "print(tuple3)"
   ]
  },
  {
   "cell_type": "code",
   "execution_count": 42,
   "metadata": {},
   "outputs": [
    {
     "output_type": "stream",
     "name": "stdout",
     "text": "<class 'tuple'>\n('a', 'b', 'c', 'd')\n"
    }
   ],
   "source": [
    "# The tuple() Constructor\n",
    "tuple4 = tuple((\"a\",\"b\",\"c\",\"d\"))\n",
    "print(type(tuple4))\n",
    "print(tuple4)"
   ]
  },
  {
   "cell_type": "code",
   "execution_count": null,
   "metadata": {},
   "outputs": [],
   "source": []
  }
 ],
 "metadata": {
  "language_info": {
   "codemirror_mode": {
    "name": "ipython",
    "version": 3
   },
   "file_extension": ".py",
   "mimetype": "text/x-python",
   "name": "python",
   "nbconvert_exporter": "python",
   "pygments_lexer": "ipython3",
   "version": "3.7.6-final"
  },
  "orig_nbformat": 2,
  "kernelspec": {
   "name": "python3",
   "display_name": "Python 3"
  }
 },
 "nbformat": 4,
 "nbformat_minor": 2
}