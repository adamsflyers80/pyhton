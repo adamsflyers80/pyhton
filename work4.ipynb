{
 "cells": [
  {
   "cell_type": "code",
   "execution_count": 7,
   "metadata": {},
   "outputs": [
    {
     "output_type": "stream",
     "name": "stdout",
     "text": "[0, 6, 28, 496]\n"
    }
   ],
   "source": [
    "perfect_numerous = []\n",
    "for i in range(1000):\n",
    "    toplam = 0\n",
    "    for j in range(1, i):\n",
    "        if i % j == 0:\n",
    "            toplam += j\n",
    "    if (toplam == i):\n",
    "        perfect_numerous.append(i)\n",
    "print(perfect_numerous)"
   ]
  },
  {
   "cell_type": "code",
   "execution_count": 4,
   "metadata": {},
   "outputs": [
    {
     "output_type": "stream",
     "name": "stdout",
     "text": "[1, 2, 3, 4, 6, 11, 12, 22, 33, 44, 66, 132]\n"
    }
   ],
   "source": [
    "def bolen_bul(sayi):\n",
    "    bolen_bul = []\n",
    "    for i in range(1,sayi+1):\n",
    "        if(sayi % i == 0):\n",
    "            bolen_bul.append(i)\n",
    "    return bolen_bul\n",
    "\n",
    "sayi = int(input(\"Sayı giriniz: \"))\n",
    "print(bolen_bul(sayi))"
   ]
  }
 ],
 "metadata": {
  "language_info": {
   "codemirror_mode": {
    "name": "ipython",
    "version": 3
   },
   "file_extension": ".py",
   "mimetype": "text/x-python",
   "name": "python",
   "nbconvert_exporter": "python",
   "pygments_lexer": "ipython3",
   "version": "3.7.6-final"
  },
  "orig_nbformat": 2,
  "kernelspec": {
   "name": "python3",
   "display_name": "Python 3"
  }
 },
 "nbformat": 4,
 "nbformat_minor": 2
}