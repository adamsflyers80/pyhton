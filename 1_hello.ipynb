{
 "cells": [
  {
   "cell_type": "code",
   "execution_count": 1,
   "metadata": {
    "tags": []
   },
   "outputs": [
    {
     "output_type": "stream",
     "name": "stdout",
     "text": "Hello World\n"
    }
   ],
   "source": [
    "print(\"Hello World\")"
   ]
  },
  {
   "cell_type": "code",
   "execution_count": 2,
   "metadata": {
    "tags": []
   },
   "outputs": [
    {
     "output_type": "stream",
     "name": "stdout",
     "text": "merhaba dünya\n"
    }
   ],
   "source": [
    "print(\"merhaba dünya\")"
   ]
  },
  {
   "cell_type": "code",
   "execution_count": 4,
   "metadata": {
    "tags": []
   },
   "outputs": [
    {
     "output_type": "stream",
     "name": "stdout",
     "text": "1234\n"
    }
   ],
   "source": [
    "print(1234)"
   ]
  },
  {
   "cell_type": "code",
   "execution_count": 6,
   "metadata": {
    "tags": []
   },
   "outputs": [
    {
     "output_type": "stream",
     "name": "stdout",
     "text": "<class 'complex'>\n"
    }
   ],
   "source": [
    "print(type(1.0j))"
   ]
  },
  {
   "cell_type": "code",
   "execution_count": 7,
   "metadata": {
    "tags": []
   },
   "outputs": [
    {
     "output_type": "stream",
     "name": "stdout",
     "text": "adem\n"
    }
   ],
   "source": [
    "print(input(\"Adınız: \"))"
   ]
  },
  {
   "cell_type": "code",
   "execution_count": null,
   "metadata": {},
   "outputs": [],
   "source": []
  },
  {
   "cell_type": "code",
   "execution_count": null,
   "metadata": {},
   "outputs": [],
   "source": [
    "# print(\"Hello World\")"
   ]
  },
  {
   "cell_type": "code",
   "execution_count": 2,
   "metadata": {},
   "outputs": [
    {
     "output_type": "stream",
     "name": "stdout",
     "text": "4 3.14 Hello\n"
    }
   ],
   "source": [
    "x = 4\n",
    "y = 3.14\n",
    "z = \"Hello\"\n",
    "print(x,y,z)"
   ]
  },
  {
   "cell_type": "code",
   "execution_count": 3,
   "metadata": {},
   "outputs": [
    {
     "output_type": "stream",
     "name": "stdout",
     "text": "Orange Orange Orange\n"
    }
   ],
   "source": [
    "x = y = z = \"Orange\"\n",
    "print(x,y,z)"
   ]
  },
  {
   "cell_type": "code",
   "execution_count": 4,
   "metadata": {},
   "outputs": [
    {
     "output_type": "stream",
     "name": "stdout",
     "text": "age:  14\n"
    }
   ],
   "source": [
    "x = 14\n",
    "print(\"age: \", x)"
   ]
  },
  {
   "cell_type": "code",
   "execution_count": 7,
   "metadata": {},
   "outputs": [
    {
     "output_type": "stream",
     "name": "stdout",
     "text": "Python is a language\nPython is a language\n"
    }
   ],
   "source": [
    "x = \"Python\"\n",
    "y = \" is a language\"\n",
    "print(x + y)\n",
    "z = x + y\n",
    "print(z)"
   ]
  },
  {
   "cell_type": "code",
   "execution_count": 9,
   "metadata": {},
   "outputs": [
    {
     "output_type": "stream",
     "name": "stdout",
     "text": "9\n"
    }
   ],
   "source": [
    "x = 5\n",
    "y = 4\n",
    "print(x + y)"
   ]
  },
  {
   "cell_type": "code",
   "execution_count": 14,
   "metadata": {},
   "outputs": [
    {
     "output_type": "stream",
     "name": "stdout",
     "text": "5John\n(5, 'John')\n"
    }
   ],
   "source": [
    "x = \"5\"\n",
    "y = \"John\"\n",
    "print(x + y)\n",
    "x = 5\n",
    "z = x , y\n",
    "print(z)"
   ]
  },
  {
   "cell_type": "code",
   "execution_count": 30,
   "metadata": {},
   "outputs": [
    {
     "output_type": "stream",
     "name": "stdout",
     "text": "Number is:  5\n"
    }
   ],
   "source": [
    "x = \"5\"\n",
    "def myfunc():\n",
    "    print(\"Number is: \" , x)\n",
    "\n",
    "myfunc()\n",
    "\n"
   ]
  },
  {
   "cell_type": "code",
   "execution_count": 19,
   "metadata": {},
   "outputs": [
    {
     "output_type": "stream",
     "name": "stdout",
     "text": "Python is awesome\n"
    }
   ],
   "source": [
    "x = \"awesome\"\n",
    "\n",
    "def myfunc():\n",
    "  print(\"Python is \" + x)\n",
    "\n",
    "myfunc()"
   ]
  },
  {
   "cell_type": "code",
   "execution_count": 53,
   "metadata": {},
   "outputs": [
    {
     "output_type": "stream",
     "name": "stdout",
     "text": "[2, 3, 5, 7, 11, 13, 17, 19, 23, 29, 31, 37, 41, 43, 47, 53, 59, 61, 67, 71, 73, 79, 83, 89, 97]\n"
    }
   ],
   "source": [
    "prime_number = []\n",
    "for s in range(2,100):\n",
    "    for b in range(2,s):\n",
    "        if(s%b==0):\n",
    "                break\n",
    "    else:\n",
    "        prime_number.append(s)\n",
    "print(prime_number) "
   ]
  },
  {
   "cell_type": "code",
   "execution_count": 58,
   "metadata": {},
   "outputs": [
    {
     "output_type": "stream",
     "name": "stdout",
     "text": "<class 'int'>\n<class 'str'>\n"
    }
   ],
   "source": [
    "x = 5\n",
    "print(type(x))\n",
    "y = \"xyz\"\n",
    "print(type(y))"
   ]
  },
  {
   "cell_type": "code",
   "execution_count": 70,
   "metadata": {},
   "outputs": [
    {
     "output_type": "stream",
     "name": "stdout",
     "text": "<class 'int'>\n<class 'float'>\n<class 'complex'>\n<class 'complex'>\n<class 'float'>\n<class 'set'>\n<class 'dict'>\n<class 'list'>\n<class 'tuple'>\n<class 'bool'>\n"
    }
   ],
   "source": [
    "# Various Data Type\n",
    "k = -1\n",
    "l = 14.34\n",
    "x = 1j\n",
    "x1 = 3+5j\n",
    "x2 = -87.7e100\n",
    "y = {\"ank\", \"ist\", \"izm\"}\n",
    "y1 = {\"a\": \"ank\", \"b\": \"ist\", \"c\": \"izm\"}\n",
    "z = [\"ank\", \"ist\", \"izm\"]\n",
    "w = \"ank\", \"ist\",\"izm\",1,2,3,{\"izm\"}\n",
    "q = True\n",
    "print(type(k))\n",
    "print(type(l))\n",
    "print(type(x))\n",
    "print(type(x1))\n",
    "print(type(x2))\n",
    "print(type(y))\n",
    "print(type(y1))\n",
    "print(type(z))\n",
    "print(type(w))\n",
    "print(type(q))"
   ]
  },
  {
   "cell_type": "code",
   "execution_count": 3,
   "metadata": {},
   "outputs": [
    {
     "output_type": "stream",
     "name": "stdout",
     "text": "<class 'int'>\n<class 'str'>\n<class 'float'>\n"
    }
   ],
   "source": [
    "# Variable Type\n",
    "x = type(int(\"1\"))\n",
    "y = type(str(2))\n",
    "z = type(float(\"3.14\"))\n",
    "print(x)\n",
    "print(y)\n",
    "print(z)\n"
   ]
  },
  {
   "cell_type": "code",
   "execution_count": 4,
   "metadata": {},
   "outputs": [
    {
     "output_type": "stream",
     "name": "stdout",
     "text": "Lorem ipsum dolor amet,\nconsectetur adipiscing elit,\nsed do eiusmod tempor incididunt\nut labore et dolore magna aliqua.\n"
    }
   ],
   "source": [
    "# Multiline Strings\n",
    "a = \"\"\" Lorem ipsum dolor amet,\n",
    "consectetur adipiscing elit,\n",
    "sed do eiusmod tempor incididunt\n",
    "ut labore et dolore magna aliqua.\"\"\"\n",
    "print(a)"
   ]
  },
  {
   "cell_type": "code",
   "execution_count": 6,
   "metadata": {},
   "outputs": [
    {
     "output_type": "stream",
     "name": "stdout",
     "text": "e\n"
    }
   ],
   "source": [
    "# Strings are Arrays\n",
    "c = \"Hello World[1]\"\n",
    "print(c[1])"
   ]
  },
  {
   "cell_type": "code",
   "execution_count": 13,
   "metadata": {},
   "outputs": [
    {
     "output_type": "stream",
     "name": "stdout",
     "text": "llo\n"
    }
   ],
   "source": [
    "# Slicing\n",
    "print(c[2:5])"
   ]
  },
  {
   "cell_type": "code",
   "execution_count": 15,
   "metadata": {},
   "outputs": [
    {
     "output_type": "stream",
     "name": "stdout",
     "text": "ld[\n"
    }
   ],
   "source": [
    "# Negative Indexing\n",
    "print(c[-5:-2])"
   ]
  },
  {
   "cell_type": "code",
   "execution_count": 17,
   "metadata": {},
   "outputs": [
    {
     "output_type": "stream",
     "name": "stdout",
     "text": "4\n"
    }
   ],
   "source": [
    "# String Length\n",
    "print(len(c[1:5]))"
   ]
  },
  {
   "cell_type": "code",
   "execution_count": 34,
   "metadata": {},
   "outputs": [
    {
     "output_type": "stream",
     "name": "stdout",
     "text": "hello world[1]\nHELLO WORLD[1]\nJello World[1]\n['Hello', 'World[1]']\nhELLO wORLD[1]\nHello World[1]\nHello world[1]\nhello world[1]\n               Hello World[1]               \n['Hello World[1]']\n"
    }
   ],
   "source": [
    "# String Methods\n",
    "print(c.lower())\n",
    "print(c.upper())\n",
    "print(c.replace(\"H\",\"J\"))\n",
    "print(c.split())\n",
    "print(c.swapcase())\n",
    "print(c.title())\n",
    "print(c.capitalize())\n",
    "print(c.casefold())\n",
    "print(c.center(44))\n",
    "print(c.rsplit(a))"
   ]
  },
  {
   "cell_type": "code",
   "execution_count": 38,
   "metadata": {},
   "outputs": [
    {
     "output_type": "stream",
     "name": "stdout",
     "text": "True False\n"
    }
   ],
   "source": [
    "txt = \"The rain in Spain stays mainly in the plain\"\n",
    "h = \"ain\" in txt\n",
    "j = \"ain\" not in txt\n",
    "print(h,j)"
   ]
  },
  {
   "cell_type": "code",
   "execution_count": 43,
   "metadata": {},
   "outputs": [
    {
     "output_type": "stream",
     "name": "stdout",
     "text": "HelloWorld\nHelloWorld\nHello World\n['H', 'e', 'l', 'l', 'o', 'W', 'o', 'r', 'l', 'd']\n"
    }
   ],
   "source": [
    "# String Concatenation\n",
    "k = \"Hello\"\n",
    "l = \"World\"\n",
    "m = k + l\n",
    "n = k + \" \" + l\n",
    "print(k + l)\n",
    "print(m)\n",
    "print(n)\n",
    "print(list(m))"
   ]
  },
  {
   "cell_type": "code",
   "execution_count": 51,
   "metadata": {},
   "outputs": [
    {
     "output_type": "stream",
     "name": "stdout",
     "text": "My name is Adem, I am 40\n"
    }
   ],
   "source": [
    "# String Format\n",
    "age = 40\n",
    "txt1 = \"My name is Adem, I am {}\"\n",
    "print(txt1.format(age))"
   ]
  },
  {
   "cell_type": "code",
   "execution_count": 52,
   "metadata": {},
   "outputs": [
    {
     "output_type": "stream",
     "name": "stdout",
     "text": "I want 3 pieces of item 456 for 39.95 dollars.\n"
    }
   ],
   "source": [
    "# String Format\n",
    "quantity = 3\n",
    "itemno = 456\n",
    "price = 39.95\n",
    "myorder = \"I want {} pieces of item {} for {} dollars.\"\n",
    "print(myorder.format(quantity,itemno,price))"
   ]
  },
  {
   "cell_type": "code",
   "execution_count": 61,
   "metadata": {},
   "outputs": [
    {
     "output_type": "stream",
     "name": "stdout",
     "text": "2: We are the so-called \"Vikings\" from the north.\n3: We are the so-called 'Vikings' from the north.\n4: We are the so-called \\Vikings\\ from the north.\n5: We are the so-called \nVikings from the north.\nVikings from the north.\n7: We are the so-called \tVikings from the north.\n8: We are the so-calledVikings from the north.\n9: We are the so-called \fVikings from the north.\n"
    }
   ],
   "source": [
    "# Escape Character\n",
    "txt2 = \"2: We are the so-called \\\"Vikings\\\" from the north.\"\n",
    "txt3 = \"3: We are the so-called \\'Vikings\\' from the north.\"\n",
    "txt4 = \"4: We are the so-called \\\\Vikings\\\\ from the north.\"\n",
    "txt5 = \"5: We are the so-called \\nVikings from the north.\"\n",
    "txt6 = \"6: We are the so-called \\rVikings from the north.\"\n",
    "txt7 = \"7: We are the so-called \\tVikings from the north.\"\n",
    "txt8 = \"8: We are the so-called \\bVikings from the north.\"\n",
    "txt9 = \"9: We are the so-called \\fVikings from the north.\"\n",
    "print(txt2)\n",
    "print(txt3)\n",
    "print(txt4)\n",
    "print(txt5)\n",
    "print(txt6)\n",
    "print(txt7)\n",
    "print(txt8)\n",
    "print(txt9)"
   ]
  },
  {
   "cell_type": "code",
   "execution_count": null,
   "metadata": {},
   "outputs": [],
   "source": []
  }
 ],
 "metadata": {
  "language_info": {
   "codemirror_mode": {
    "name": "ipython",
    "version": 3
   },
   "file_extension": ".py",
   "mimetype": "text/x-python",
   "name": "python",
   "nbconvert_exporter": "python",
   "pygments_lexer": "ipython3",
   "version": "3.7.6-final"
  },
  "orig_nbformat": 2,
  "kernelspec": {
   "name": "python3",
   "display_name": "Python 3"
  }
 },
 "nbformat": 4,
 "nbformat_minor": 2
}