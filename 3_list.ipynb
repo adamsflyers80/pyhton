{
 "cells": [
  {
   "cell_type": "code",
   "execution_count": null,
   "metadata": {},
   "outputs": [],
   "source": []
  },
  {
   "cell_type": "code",
   "execution_count": 129,
   "metadata": {},
   "outputs": [
    {
     "output_type": "stream",
     "name": "stdout",
     "text": "['apple', 'banana', 'cherry', 'orange', 'kiwi', 'melon', 'mango']\n"
    }
   ],
   "source": [
    "# Python List is a collection which is ordered and changeable. Allows duplicate members.\n",
    "thislist = [\"apple\", \"banana\", \"cherry\",\"orange\", \"kiwi\", \"melon\", \"mango\"]\n",
    "print(thislist)"
   ]
  },
  {
   "cell_type": "code",
   "execution_count": 130,
   "metadata": {},
   "outputs": [
    {
     "output_type": "stream",
     "name": "stdout",
     "text": "banana\nmango\n['cherry', 'orange']\n['apple', 'banana', 'cherry', 'orange']\n['orange', 'kiwi']\n['apple', 'banana', 'cherry', 'orange', 'kiwi']\n['melon', 'mango']\n"
    }
   ],
   "source": [
    "# Access Items\n",
    "print(thislist[1])\n",
    "# Negative Indexing\n",
    "print(thislist[-1])\n",
    "# Range of Indexes\n",
    "print(thislist[2:4])\n",
    "print(thislist[:4])\n",
    "# Range of Negative Indexes\n",
    "print(thislist[-4:-2])\n",
    "print(thislist[:-2])\n",
    "print(thislist[-2:])"
   ]
  },
  {
   "cell_type": "code",
   "execution_count": 131,
   "metadata": {},
   "outputs": [
    {
     "output_type": "stream",
     "name": "stdout",
     "text": "['apple', 'blackcurrant', 'cherry', 'orange', 'kiwi', 'melon', 'mango']\n"
    }
   ],
   "source": [
    "# Change Item Value\n",
    "thislist[1] = \"blackcurrant\"\n",
    "print(thislist)"
   ]
  },
  {
   "cell_type": "code",
   "execution_count": 132,
   "metadata": {},
   "outputs": [
    {
     "output_type": "stream",
     "name": "stdout",
     "text": "apple\nblackcurrant\ncherry\norange\nkiwi\nmelon\nmango\n"
    }
   ],
   "source": [
    "#Loop Through a List\n",
    "for i in thislist:\n",
    "    print(i)"
   ]
  },
  {
   "cell_type": "code",
   "execution_count": 133,
   "metadata": {},
   "outputs": [
    {
     "output_type": "stream",
     "name": "stdout",
     "text": "Yes\n"
    }
   ],
   "source": [
    "# Check if Item Exists\n",
    "if \"apple\" in thislist:\n",
    "    print(\"Yes\")\n",
    "else:\n",
    "    print(\"No\")"
   ]
  },
  {
   "cell_type": "code",
   "execution_count": 134,
   "metadata": {},
   "outputs": [
    {
     "output_type": "stream",
     "name": "stdout",
     "text": "7\n6\n5\n"
    }
   ],
   "source": [
    "# List Length\n",
    "print(len(thislist))\n",
    "print(len(thislist[2]))\n",
    "print(len(thislist[5]))"
   ]
  },
  {
   "cell_type": "code",
   "execution_count": 135,
   "metadata": {},
   "outputs": [
    {
     "output_type": "stream",
     "name": "stdout",
     "text": "['apple', 'blackcurrant', 'cherry', 'orange', 'kiwi', 'melon', 'mango', 'sourcherry']\n"
    }
   ],
   "source": [
    "# Add Items\n",
    "thislist.append(\"sourcherry\")\n",
    "print(thislist)"
   ]
  },
  {
   "cell_type": "code",
   "execution_count": 136,
   "metadata": {},
   "outputs": [
    {
     "output_type": "stream",
     "name": "stdout",
     "text": "['apple', 'nut', 'blackcurrant', 'cherry', 'orange', 'kiwi', 'melon', 'mango', 'sourcherry']\n"
    }
   ],
   "source": [
    "thislist.insert(1,\"nut\")\n",
    "print(thislist)"
   ]
  },
  {
   "cell_type": "code",
   "execution_count": 137,
   "metadata": {},
   "outputs": [
    {
     "output_type": "stream",
     "name": "stdout",
     "text": "['apple', 'nut', 'blackcurrant', 'cherry', 'orange', 'kiwi', 'melon', 'mango']\n"
    }
   ],
   "source": [
    "# Remove Item\n",
    "thislist.remove(\"sourcherry\")\n",
    "print(thislist)"
   ]
  },
  {
   "cell_type": "code",
   "execution_count": 138,
   "metadata": {},
   "outputs": [
    {
     "output_type": "stream",
     "name": "stdout",
     "text": "['apple', 'nut', 'blackcurrant', 'orange', 'kiwi', 'melon', 'mango']\n"
    }
   ],
   "source": [
    "thislist.pop(3)\n",
    "print(thislist)"
   ]
  },
  {
   "cell_type": "code",
   "execution_count": 143,
   "metadata": {},
   "outputs": [
    {
     "output_type": "stream",
     "name": "stdout",
     "text": "['apple', 'nut', 'blackcurrant', 'orange', 'kiwi', 'melon', 'mango']\n"
    }
   ],
   "source": [
    "# Copy a List\n",
    "my_list = thislist.copy()\n",
    "print(my_list)"
   ]
  },
  {
   "cell_type": "code",
   "execution_count": 145,
   "metadata": {},
   "outputs": [
    {
     "output_type": "stream",
     "name": "stdout",
     "text": "['apple', 'nut', 'blackcurrant', 'orange', 'kiwi', 'melon', 'mango', 'apple', 'nut', 'blackcurrant', 'orange', 'kiwi', 'melon', 'mango']\n14\n"
    }
   ],
   "source": [
    "# Join Two Lists\n",
    "new_list = thislist + my_list\n",
    "print(new_list)\n",
    "print(len(new_list))"
   ]
  },
  {
   "cell_type": "code",
   "execution_count": 146,
   "metadata": {},
   "outputs": [
    {
     "output_type": "stream",
     "name": "stdout",
     "text": "['apple', 'banana', 'cherry']\n"
    }
   ],
   "source": [
    "# The list() Constructor\n",
    "thislist = list((\"apple\", \"banana\", \"cherry\"))\n",
    "print(thislist)"
   ]
  },
  {
   "cell_type": "code",
   "execution_count": 148,
   "metadata": {},
   "outputs": [
    {
     "output_type": "stream",
     "name": "stdout",
     "text": "['apple', 'banana', 'cherry', 'apple', 'nut', 'blackcurrant', 'orange', 'kiwi', 'melon', 'mango']\n"
    }
   ],
   "source": [
    "# Extend list: The extend() method adds the specified list elements (or any iterable) to the end of the current list\n",
    "thislist.extend(my_list)\n",
    "print(thislist)"
   ]
  },
  {
   "cell_type": "code",
   "execution_count": 152,
   "metadata": {},
   "outputs": [
    {
     "output_type": "stream",
     "name": "stdout",
     "text": "1\n2\n"
    }
   ],
   "source": [
    "# index() Method returns the position at the first occurrence of the specified value.\n",
    "g = my_list.index(\"nut\")\n",
    "print(g)\n",
    "numbers = [1, 2, 3, 3, 4, 5, 6]\n",
    "t = numbers.index(3)\n",
    "print(t)"
   ]
  },
  {
   "cell_type": "code",
   "execution_count": 121,
   "metadata": {},
   "outputs": [
    {
     "output_type": "stream",
     "name": "stdout",
     "text": "['apple', 'nut', 'blackcurrant', 'orange', 'melon', 'mango']\n"
    }
   ],
   "source": [
    "del thislist[4]\n",
    "print(thislist)"
   ]
  },
  {
   "cell_type": "code",
   "execution_count": 124,
   "metadata": {},
   "outputs": [
    {
     "output_type": "stream",
     "name": "stdout",
     "text": "[]\n"
    }
   ],
   "source": [
    "thislist.clear()\n",
    "print(thislist)"
   ]
  },
  {
   "cell_type": "code",
   "execution_count": 127,
   "metadata": {},
   "outputs": [
    {
     "output_type": "error",
     "ename": "NameError",
     "evalue": "name 'thislist' is not defined",
     "traceback": [
      "\u001b[1;31m---------------------------------------------------------------------------\u001b[0m",
      "\u001b[1;31mNameError\u001b[0m                                 Traceback (most recent call last)",
      "\u001b[1;32m<ipython-input-127-2406284cf35d>\u001b[0m in \u001b[0;36m<module>\u001b[1;34m\u001b[0m\n\u001b[0;32m      1\u001b[0m \u001b[1;32mdel\u001b[0m \u001b[0mthislist\u001b[0m\u001b[1;33m\u001b[0m\u001b[1;33m\u001b[0m\u001b[0m\n\u001b[1;32m----> 2\u001b[1;33m \u001b[0mprint\u001b[0m\u001b[1;33m(\u001b[0m\u001b[0mthislist\u001b[0m\u001b[1;33m)\u001b[0m\u001b[1;33m\u001b[0m\u001b[1;33m\u001b[0m\u001b[0m\n\u001b[0m",
      "\u001b[1;31mNameError\u001b[0m: name 'thislist' is not defined"
     ]
    }
   ],
   "source": [
    "del thislist\n",
    "print(thislist)"
   ]
  },
  {
   "cell_type": "code",
   "execution_count": null,
   "metadata": {},
   "outputs": [],
   "source": []
  }
 ],
 "metadata": {
  "language_info": {
   "codemirror_mode": {
    "name": "ipython",
    "version": 3
   },
   "file_extension": ".py",
   "mimetype": "text/x-python",
   "name": "python",
   "nbconvert_exporter": "python",
   "pygments_lexer": "ipython3",
   "version": "3.7.6-final"
  },
  "orig_nbformat": 2,
  "kernelspec": {
   "name": "python3",
   "display_name": "Python 3"
  }
 },
 "nbformat": 4,
 "nbformat_minor": 2
}