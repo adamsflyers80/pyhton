{
 "cells": [
  {
   "cell_type": "code",
   "execution_count": 1,
   "metadata": {},
   "outputs": [
    {
     "output_type": "stream",
     "name": "stdout",
     "text": "free\n"
    }
   ],
   "source": [
    "total_price = int(input(\"Your total price: \"))\n",
    "continent = input(\"Your continent: \")\n",
    "\n",
    "if continent == \"America\" and total_price <= 50:\n",
    "    print(\"shipping cost will be $50\")\n",
    "elif continent == \"America\" and total_price > 50:\n",
    "    print(\"shipping cost will be $25\")\n",
    "elif continent == \"Europe\" and total_price <= 50:\n",
    "    print(\"shipping cost will be $25\")\n",
    "elif continent == \"Europe\" and total_price > 50:\n",
    "    print(\"shipping cost will be $25\")\n",
    "elif continent == \"Asia\":\n",
    "    print(\"shipping cost will be $75\")\n",
    "else:\n",
    "    print(\"free\")"
   ]
  },
  {
   "cell_type": "code",
   "execution_count": null,
   "metadata": {},
   "outputs": [],
   "source": [
    "lst=[​1​,​2​,​3​,​6​,​7​,​3​,​7​]\n",
    "start= ​int​(​input​(​\"Please enter the starting index\"​)) while​(​0​ > start ​or​ start >= ​len​(lst)):\n",
    "start= ​int​(​input​(​\"Please enter the starting index\"​))\n",
    "end = ​int​(​input​(​\"please enter the ending index\"​))\n",
    "while​(​len​(lst) < end ​or​ end < ​0​):\n",
    "end = ​int​(​input​(​\"please enter the ending index\"​))\n",
    "count = ​0\n",
    "for​ i ​in​ lst: ​if​(start<=count<=end):\n",
    "print​(i) count = count+​1"
   ]
  }
 ],
 "metadata": {
  "language_info": {
   "codemirror_mode": {
    "name": "ipython",
    "version": 3
   },
   "file_extension": ".py",
   "mimetype": "text/x-python",
   "name": "python",
   "nbconvert_exporter": "python",
   "pygments_lexer": "ipython3",
   "version": "3.7.6-final"
  },
  "orig_nbformat": 2,
  "kernelspec": {
   "name": "python3",
   "display_name": "Python 3"
  }
 },
 "nbformat": 4,
 "nbformat_minor": 2
}