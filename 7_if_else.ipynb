{
 "cells": [
  {
   "cell_type": "code",
   "execution_count": 2,
   "metadata": {},
   "outputs": [
    {
     "output_type": "stream",
     "name": "stdout",
     "text": "b is grater than a\n"
    }
   ],
   "source": [
    "# Python Conditions and If statements\n",
    "a = 33\n",
    "b = 200\n",
    "if b > a:\n",
    "    print(\"b is grater than a\")\n",
    "else:\n",
    "    print(\"a is grater than b\")"
   ]
  },
  {
   "cell_type": "code",
   "execution_count": 4,
   "metadata": {},
   "outputs": [
    {
     "output_type": "stream",
     "name": "stdout",
     "text": "d is equal to c\n"
    }
   ],
   "source": [
    "# Elif\n",
    "c = 22\n",
    "d = 22\n",
    "if d > c:\n",
    "    print(\"d is grater than c\")\n",
    "elif d == c:\n",
    "    print(\"d is equal to c\")\n",
    "else:\n",
    "    print(\"d is grater than c\")"
   ]
  },
  {
   "cell_type": "code",
   "execution_count": null,
   "metadata": {},
   "outputs": [],
   "source": [
    "# Short Hand If\n",
    "i a < b :print(\"b is grater than a\")"
   ]
  },
  {
   "cell_type": "code",
   "execution_count": 6,
   "metadata": {},
   "outputs": [
    {
     "output_type": "stream",
     "name": "stdout",
     "text": "Both conditions are not True\n"
    }
   ],
   "source": [
    "# And\n",
    "if a == b and c == d:\n",
    "    print(\"Both conditions are True\")\n",
    "else:\n",
    "    print(\"Both conditions are not True\")"
   ]
  },
  {
   "cell_type": "code",
   "execution_count": 7,
   "metadata": {},
   "outputs": [
    {
     "output_type": "stream",
     "name": "stdout",
     "text": "At least one of the conditions is True\n"
    }
   ],
   "source": [
    "# Or\n",
    "if a == b or c == d:\n",
    "    print(\"At least one of the conditions is True\")\n",
    "else:\n",
    "    print(\"At least one of the conditions is True\")"
   ]
  },
  {
   "cell_type": "code",
   "execution_count": 9,
   "metadata": {},
   "outputs": [
    {
     "output_type": "stream",
     "name": "stdout",
     "text": "x is above 10\nbut not above 20\n"
    }
   ],
   "source": [
    "# Nested If\n",
    "x = 16\n",
    "if x > 10:\n",
    "    print(\"x is above 10\")\n",
    "    if x > 20:\n",
    "        print(\"x is above 20\")\n",
    "    else:\n",
    "        print(\"but not above 20\")"
   ]
  },
  {
   "cell_type": "code",
   "execution_count": 16,
   "metadata": {},
   "outputs": [
    {
     "output_type": "stream",
     "name": "stdout",
     "text": "Go on\n"
    }
   ],
   "source": [
    "# The pass Statement: if statements cannot be empty, but if you for some reason have an if statement with no content, put in the pass statement to avoid getting an error.\n",
    "a == 30\n",
    "b == 220\n",
    "if b > a:\n",
    "    pass\n",
    "else:\n",
    "    print(\"Stop\")\n"
   ]
  },
  {
   "cell_type": "code",
   "execution_count": null,
   "metadata": {},
   "outputs": [],
   "source": []
  }
 ],
 "metadata": {
  "language_info": {
   "codemirror_mode": {
    "name": "ipython",
    "version": 3
   },
   "file_extension": ".py",
   "mimetype": "text/x-python",
   "name": "python",
   "nbconvert_exporter": "python",
   "pygments_lexer": "ipython3",
   "version": "3.7.6-final"
  },
  "orig_nbformat": 2,
  "kernelspec": {
   "name": "python3",
   "display_name": "Python 3"
  }
 },
 "nbformat": 4,
 "nbformat_minor": 2
}