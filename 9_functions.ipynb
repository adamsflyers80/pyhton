{
 "cells": [
  {
   "cell_type": "code",
   "execution_count": 44,
   "metadata": {},
   "outputs": [
    {
     "output_type": "stream",
     "name": "stdout",
     "text": "Hello from a function\n"
    }
   ],
   "source": [
    "# Functions :A function is a block of code which only runs when it is called.\n",
    "def my_function8():\n",
    "  print(\"Hello from a function\")\n",
    "\n",
    "my_function8()"
   ]
  },
  {
   "cell_type": "code",
   "execution_count": 5,
   "metadata": {},
   "outputs": [
    {
     "output_type": "stream",
     "name": "stdout",
     "text": "Adem Uçar\nNevin Uçar\n"
    }
   ],
   "source": [
    "# Arguments: Information can be passed into functions as arguments. Arguments are specified after the function name, inside the parentheses. You can add as many arguments as you want, just separate them with a comma.\n",
    "def my_function(fname):\n",
    "    print(fname + \" Uçar\")\n",
    "\n",
    "my_function(\"Adem\")\n",
    "my_function(\"Nevin\")"
   ]
  },
  {
   "cell_type": "code",
   "execution_count": null,
   "metadata": {},
   "outputs": [],
   "source": [
    "# From a function's perspective:\n",
    "# A parameter is the variable listed inside the parentheses in the function definition.\n",
    "# An argument is the value that is sent to the function when it is called.\n"
   ]
  },
  {
   "cell_type": "code",
   "execution_count": 8,
   "metadata": {},
   "outputs": [
    {
     "output_type": "stream",
     "name": "stdout",
     "text": "Adem Uçar\n"
    }
   ],
   "source": [
    "# Number of Arguments\n",
    "def my_functions(fname, lname):\n",
    "    print(fname + \" \" + lname)\n",
    "\n",
    "my_functions(\"Adem\",\"Uçar\")"
   ]
  },
  {
   "cell_type": "code",
   "execution_count": 43,
   "metadata": {},
   "outputs": [
    {
     "output_type": "stream",
     "name": "stdout",
     "text": "Adem  \n"
    }
   ],
   "source": [
    "def my_functions7(fname, lname):\n",
    "    print(fname + \" \" + lname)\n",
    "\n",
    "my_functions7(\"Adem\",\" \")"
   ]
  },
  {
   "cell_type": "code",
   "execution_count": 41,
   "metadata": {},
   "outputs": [
    {
     "output_type": "stream",
     "name": "stdout",
     "text": "The youngest child is Levent\n"
    }
   ],
   "source": [
    "# Arbitrary Arguments, *args : If you do not know how many arguments that will be passed into your function, add a * before the parameter name in the function definition. This way the function will receive a tuple of arguments, and can access the items accordingly:\n",
    "def my_functions6(*kids):\n",
    "    print(\"The youngest child is \" + kids[2])\n",
    "\n",
    "my_functions6(\"Mustafa\",\"Kemal\",\"Levent\")"
   ]
  },
  {
   "cell_type": "code",
   "execution_count": 40,
   "metadata": {},
   "outputs": [
    {
     "output_type": "stream",
     "name": "stdout",
     "text": "The youngest child is Levent\n"
    }
   ],
   "source": [
    "# Keyword Arguments: You can also send arguments with the key = value syntax.This way the order of the arguments does not matter.\n",
    "def my_function5(child3, child2, child1):\n",
    "    print(\"The youngest child is \" + child3)\n",
    "\n",
    "my_function5(child1 = \"Mustafa\", child2 = \"Kemal\", child3 = \"Levent\")"
   ]
  },
  {
   "cell_type": "code",
   "execution_count": 39,
   "metadata": {},
   "outputs": [
    {
     "output_type": "stream",
     "name": "stdout",
     "text": "His last name is Uçar\n"
    }
   ],
   "source": [
    "# Arbitrary Keyword Arguments, **kwargs: If you do not know how many keyword arguments that will be passed into your function, add two asterisk: ** before the parameter name in the function definition.\n",
    "def my_function4(**kid):\n",
    "    print(\"His last name is \" + kid[\"lname\"])\n",
    "\n",
    "my_function4(fname = \"Levent\", lname = \"Uçar\")"
   ]
  },
  {
   "cell_type": "code",
   "execution_count": 38,
   "metadata": {},
   "outputs": [
    {
     "output_type": "stream",
     "name": "stdout",
     "text": "I am from India\nI am from Turkey\nI am from Brazil\nI am from Germany\n"
    }
   ],
   "source": [
    "# Default Parameter Value :The following example shows how to use a default parameter value\n",
    "def my_function1(country = \"Germany\"):\n",
    "    print(\"I am from \" + country)\n",
    "\n",
    "my_function1(\"India\")\n",
    "my_function1(\"Turkey\")\n",
    "my_function1(\"Brazil\")\n",
    "my_function1()"
   ]
  },
  {
   "cell_type": "code",
   "execution_count": 37,
   "metadata": {},
   "outputs": [
    {
     "output_type": "stream",
     "name": "stdout",
     "text": "apple\nbanana\ncherry\n"
    }
   ],
   "source": [
    "# Passing a List as an Argument: You can send any data types of argument to a function (string, number, list, dictionary etc.), and it will be treated as the same data type inside the function.\n",
    "def my_function2(food):\n",
    "    for x in food:\n",
    "        print(x)\n",
    "\n",
    "fruits = [\"apple\",\"banana\",\"cherry\"]\n",
    "my_function2(fruits)"
   ]
  },
  {
   "cell_type": "code",
   "execution_count": 45,
   "metadata": {},
   "outputs": [
    {
     "output_type": "stream",
     "name": "stdout",
     "text": "15\n25\n45\n"
    }
   ],
   "source": [
    "# Return Values: To let a function return a value, use the return statement:\n",
    "def my_func1(x):\n",
    "    return 5 * x\n",
    "\n",
    "print(my_func1(3))\n",
    "print(my_func1(5))\n",
    "print(my_func1(9))\n"
   ]
  },
  {
   "cell_type": "code",
   "execution_count": 46,
   "metadata": {},
   "outputs": [],
   "source": [
    "# The pass Statement:\n",
    "def my_func2():\n",
    "    pass"
   ]
  },
  {
   "cell_type": "code",
   "execution_count": 48,
   "metadata": {},
   "outputs": [
    {
     "output_type": "stream",
     "name": "stdout",
     "text": "\n\nRecursion Example Results\n1\n3\n6\n10\n15\n21\n"
    },
    {
     "output_type": "execute_result",
     "data": {
      "text/plain": "21"
     },
     "metadata": {},
     "execution_count": 48
    }
   ],
   "source": [
    "# Recursion: Recursion is a common mathematical and programming concept. It means that a function calls itself. This has the benefit of meaning that you can loop through data to reach a result.\n",
    "def tri_recursion(k):\n",
    "    if(k > 0):\n",
    "        result = k + tri_recursion(k - 1)\n",
    "        print(result)\n",
    "    else:\n",
    "        result = 0\n",
    "    return result\n",
    "\n",
    "print(\"\\n\\nRecursion Example Results\")\n",
    "tri_recursion(6)"
   ]
  },
  {
   "cell_type": "code",
   "execution_count": null,
   "metadata": {},
   "outputs": [],
   "source": []
  }
 ],
 "metadata": {
  "language_info": {
   "codemirror_mode": {
    "name": "ipython",
    "version": 3
   },
   "file_extension": ".py",
   "mimetype": "text/x-python",
   "name": "python",
   "nbconvert_exporter": "python",
   "pygments_lexer": "ipython3",
   "version": "3.7.6-final"
  },
  "orig_nbformat": 2,
  "kernelspec": {
   "name": "python3",
   "display_name": "Python 3"
  }
 },
 "nbformat": 4,
 "nbformat_minor": 2
}