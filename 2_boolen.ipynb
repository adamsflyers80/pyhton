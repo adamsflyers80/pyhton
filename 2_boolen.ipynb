{
 "cells": [
  {
   "cell_type": "code",
   "execution_count": 2,
   "metadata": {},
   "outputs": [
    {
     "output_type": "stream",
     "name": "stdout",
     "text": "True\nFalse\nFalse\n"
    }
   ],
   "source": [
    "#Boolean Values\n",
    "print(10>9)\n",
    "print(10<9)\n",
    "print(10==9)"
   ]
  },
  {
   "cell_type": "code",
   "execution_count": 7,
   "metadata": {},
   "outputs": [
    {
     "output_type": "stream",
     "name": "stdout",
     "text": "aa is greater than bb\n"
    }
   ],
   "source": [
    "#Boolean Values\n",
    "aa = 25\n",
    "bb = 20\n",
    "if aa > bb:\n",
    "    print(\"aa is greater than bb\")\n",
    "else:\n",
    "    print(\"aa is not greater than bb\")"
   ]
  },
  {
   "cell_type": "code",
   "execution_count": 17,
   "metadata": {},
   "outputs": [
    {
     "output_type": "stream",
     "name": "stdout",
     "text": "True\nTrue\nTrue\nFalse\nFalse\nFalse\nFalse\nTrue\nFalse\nFalse\nFalse\n"
    }
   ],
   "source": [
    "#Evaluate Values and Variables\n",
    "print(bool(\"Hello\"))\n",
    "print(bool(15))\n",
    "print(bool(-15))\n",
    "print(bool())\n",
    "print(bool(0))\n",
    "print(bool(None))\n",
    "print(bool(\"\"))\n",
    "print(bool(\" \"))\n",
    "print(bool([]))\n",
    "print(bool({}))\n",
    "print(bool(()))"
   ]
  },
  {
   "cell_type": "code",
   "execution_count": 39,
   "metadata": {},
   "outputs": [
    {
     "output_type": "stream",
     "name": "stdout",
     "text": "Yes!\n"
    }
   ],
   "source": [
    "# Functions can Return a Boolean\n",
    "def myfunction() :\n",
    "    return True \n",
    "if myfuncion():\n",
    "   print(\"Yes!\")\n",
    "else:\n",
    "   print(\"No!\")"
   ]
  },
  {
   "cell_type": "code",
   "execution_count": 40,
   "metadata": {},
   "outputs": [
    {
     "output_type": "stream",
     "name": "stdout",
     "text": "True\n"
    }
   ],
   "source": [
    "xz = 200\n",
    "print(isinstance(xz,int))"
   ]
  },
  {
   "cell_type": "code",
   "execution_count": 49,
   "metadata": {},
   "outputs": [
    {
     "output_type": "stream",
     "name": "stdout",
     "text": "4.0\n0\n0\n"
    }
   ],
   "source": [
    "# Python Operators\n",
    "q, w, z = 4, 5, 6\n",
    "q += 4      # x = x + 3 \n",
    "q -= 4      # x = x - 3\n",
    "q *= 4      # x = x * 3\n",
    "q /= 4      # x = x / 3\n",
    "w ^= 5      # x = x ^ 3\n",
    "w **= 5     # x = x ** 3\n",
    "w //= 5     # x = x // 3\n",
    "w &= 5      # x = x & 3\n",
    "w %= 4      # x = x % 3\n",
    "z >>= 3     # x = x >> 3\n",
    "z <<= 3     # x = x << 3\n",
    "print(q)\n",
    "print(w)\n",
    "print(z)"
   ]
  },
  {
   "cell_type": "code",
   "execution_count": null,
   "metadata": {},
   "outputs": [],
   "source": []
  }
 ],
 "metadata": {
  "language_info": {
   "codemirror_mode": {
    "name": "ipython",
    "version": 3
   },
   "file_extension": ".py",
   "mimetype": "text/x-python",
   "name": "python",
   "nbconvert_exporter": "python",
   "pygments_lexer": "ipython3",
   "version": "3.7.6-final"
  },
  "orig_nbformat": 2,
  "kernelspec": {
   "name": "python3",
   "display_name": "Python 3"
  }
 },
 "nbformat": 4,
 "nbformat_minor": 2
}