{
 "cells": [
  {
   "cell_type": "code",
   "execution_count": 7,
   "metadata": {},
   "outputs": [
    {
     "output_type": "stream",
     "name": "stdout",
     "text": "\\ a \\ -\n\n"
    }
   ],
   "source": [
    "print(\"\\\\\", \"a\", \"\\\\\",\"-\\n\")"
   ]
  },
  {
   "cell_type": "code",
   "execution_count": 13,
   "metadata": {},
   "outputs": [
    {
     "output_type": "stream",
     "name": "stdout",
     "text": "a\td\te\tm\ta\td\te\tm\n"
    }
   ],
   "source": [
    "print(*\"adem\"*2, sep = \"\\t\")"
   ]
  },
  {
   "cell_type": "code",
   "execution_count": 15,
   "metadata": {},
   "outputs": [
    {
     "output_type": "execute_result",
     "data": {
      "text/plain": "'ben Ankara şehrinde 5 yıldır yaşıyorum.'"
     },
     "metadata": {},
     "execution_count": 15
    }
   ],
   "source": [
    "\"ben {} şehrinde {} yıldır yaşıyorum.\".format(\"Ankara\",\"5\")"
   ]
  },
  {
   "cell_type": "code",
   "execution_count": 18,
   "metadata": {},
   "outputs": [
    {
     "output_type": "stream",
     "name": "stdout",
     "text": "Mustafa ve Levent adında iki oğlum var.11 ve 7 yaşındalar.\n"
    }
   ],
   "source": [
    "text = \"{} ve {} adında iki oğlum var.{} ve {} yaşındalar.\"\n",
    "print(text.format(\"Mustafa\",\"Levent\",\"11\",\"7\"))"
   ]
  },
  {
   "cell_type": "code",
   "execution_count": 23,
   "metadata": {},
   "outputs": [
    {
     "output_type": "stream",
     "name": "stdout",
     "text": "an,ista\n"
    }
   ],
   "source": [
    "text = \"{:.2s},{:.4s}\".format(\"ankara\",\"istanbul\")\n",
    "print(text)"
   ]
  },
  {
   "cell_type": "code",
   "execution_count": 40,
   "metadata": {},
   "outputs": [
    {
     "output_type": "error",
     "ename": "SyntaxError",
     "evalue": "invalid syntax (<ipython-input-40-0350a789ebf0>, line 1)",
     "traceback": [
      "\u001b[1;36m  File \u001b[1;32m\"<ipython-input-40-0350a789ebf0>\"\u001b[1;36m, line \u001b[1;32m1\u001b[0m\n\u001b[1;33m    text1 = {%.3f}.format(3.14534545)\u001b[0m\n\u001b[1;37m             ^\u001b[0m\n\u001b[1;31mSyntaxError\u001b[0m\u001b[1;31m:\u001b[0m invalid syntax\n"
     ]
    }
   ],
   "source": [
    "text1 = {:.3f}.format(3.14534545)"
   ]
  },
  {
   "cell_type": "code",
   "execution_count": 35,
   "metadata": {},
   "outputs": [
    {
     "output_type": "stream",
     "name": "stdout",
     "text": "adem                    \n"
    }
   ],
   "source": [
    "text3 = '{:^44}'.format('adem')\n",
    "print(text3)"
   ]
  },
  {
   "cell_type": "code",
   "execution_count": 2,
   "metadata": {},
   "outputs": [
    {
     "output_type": "stream",
     "name": "stdout",
     "text": "I quit smoking\n['I quit smoking']\n"
    }
   ],
   "source": [
    "string_1 = \"I quit smoking\"\n",
    "my_list = (string_1)\n",
    "my_list1 = [string_1]\n",
    "print(my_list)\n",
    "print(my_list1)"
   ]
  },
  {
   "cell_type": "code",
   "execution_count": null,
   "metadata": {},
   "outputs": [],
   "source": []
  }
 ],
 "metadata": {
  "language_info": {
   "codemirror_mode": {
    "name": "ipython",
    "version": 3
   },
   "file_extension": ".py",
   "mimetype": "text/x-python",
   "name": "python",
   "nbconvert_exporter": "python",
   "pygments_lexer": "ipython3",
   "version": "3.7.6-final"
  },
  "orig_nbformat": 2,
  "kernelspec": {
   "name": "python3",
   "display_name": "Python 3"
  }
 },
 "nbformat": 4,
 "nbformat_minor": 2
}