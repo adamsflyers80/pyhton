{
 "cells": [
  {
   "cell_type": "code",
   "execution_count": null,
   "metadata": {},
   "outputs": [],
   "source": [
    "# Bir dictionary tanımlamanın iki yolu vardır; 1. si dict anahtar sözcüğünü kullanmaktır.\n",
    "ilk_dict = dict()\n",
    "# 2. si ise sadece süslü parantez açıp kapamaktır.\n",
    "ikinci_dict = { }"
   ]
  },
  {
   "cell_type": "code",
   "execution_count": null,
   "metadata": {},
   "outputs": [],
   "source": [
    "# Mükemmel Sayı Python Örneği\n",
    "# Soru: Bir sayının kendisi dışında bütün pozitif bölenlerinin toplamı kendisine eşit olan sayılara mükemmel sayı denir. Kullanıcıdan alınan sayının mükemmel sayı olup olmadığını kontrol eden kodu yazınız.\n",
    "# sayi = sayi1 + sayi2 + sayi3 \n",
    "# sayi = sayi1 *sayi2 *sayi3\n"
   ]
  },
  {
   "cell_type": "code",
   "execution_count": 1,
   "metadata": {},
   "outputs": [
    {
     "output_type": "stream",
     "name": "stdout",
     "text": "mükemmel sayıdır.\n"
    }
   ],
   "source": [
    "sayi = int(input(\"Sayı giriniz: \"))\n",
    "\n",
    "toplam = 0\n",
    "\n",
    "for i in range(1,sayi):\n",
    "    if(sayi%i == 0):\n",
    "        toplam += i\n",
    "\n",
    "if(sayi == toplam):\n",
    "    print(\"mükemmel sayıdır.\")\n",
    "else:\n",
    "    print(\"mükemmel sayı değildir.\")\n"
   ]
  },
  {
   "cell_type": "code",
   "execution_count": null,
   "metadata": {},
   "outputs": [],
   "source": [
    "# 1'den 100'e kadar mükemmel sayıları bulunuz"
   ]
  },
  {
   "cell_type": "code",
   "execution_count": 3,
   "metadata": {
    "tags": [
     "outputPrepend"
    ]
   },
   "outputs": [
    {
     "output_type": "stream",
     "name": "stdout",
     "text": "[6, 28]\n"
    }
   ],
   "source": [
    "perfect_numerous = []\n",
    "\n",
    "for i in range(1,100):\n",
    "    toplam = 0\n",
    "    for j in range(1,i):\n",
    "        if(i%j == 0):\n",
    "            toplam += j\n",
    "    if(toplam == i):\n",
    "        perfect_numerous.append(i)\n",
    "print(perfect_numerous)"
   ]
  },
  {
   "cell_type": "code",
   "execution_count": 46,
   "metadata": {},
   "outputs": [],
   "source": [
    "# Soru: Kullanıcının girdiği sayının pozitif tam bölenlerini bulan kodu yazınız."
   ]
  },
  {
   "cell_type": "code",
   "execution_count": 1,
   "metadata": {
    "tags": [
     "outputPrepend"
    ]
   },
   "outputs": [
    {
     "output_type": "stream",
     "name": "stdout",
     "text": "[1, 2, 4, 7, 14]\n"
    }
   ],
   "source": [
    "sayi2 = int(input(\"Sayı giriniz: \"))\n",
    "bölen_listesi = []\n",
    "for i in range(1,sayi2):\n",
    "    if(sayi2%i==0):\n",
    "        bölen_listesi.append(i)\n",
    "print(bölen_listesi)"
   ]
  },
  {
   "cell_type": "code",
   "execution_count": null,
   "metadata": {},
   "outputs": [],
   "source": [
    "# Hipotenüs Hesaplayan Python Örneği\n",
    "# Soru: Dik üçgende dik açının karşısındaki kenara hipotenüs denir. Hipotenüs formülü : a^2 + b^2 = c^2 olduğuna göre kullanıcıdan alınan A ve B kenarına göre hipotenüsü hesaplayan kodu yazınız."
   ]
  },
  {
   "cell_type": "code",
   "execution_count": 55,
   "metadata": {},
   "outputs": [
    {
     "output_type": "stream",
     "name": "stdout",
     "text": "5.0\n"
    }
   ],
   "source": [
    "a = int(input(\"A: \"))\n",
    "b = int(input(\"B: \"))\n",
    "c = (a**2 + b**2)**0.5\n",
    "print(c)"
   ]
  },
  {
   "cell_type": "code",
   "execution_count": 65,
   "metadata": {},
   "outputs": [],
   "source": [
    "# Beden Kütle Endeksi Hesaplama Python Örneği\n",
    "# Soru: Beden kütle endeksi kilo/boy^2 formülü ile hesaplanarak bireyin kilolu normal zayıf veya obez sınıfına girdiği ile ilgili sonuç verir. Kütle Endeksi (KE) < 18.5 ise Zayıf , 18.5 < (KE) <=25 ise Normal , 25 < (KE) <= 30 ise Kilolu , (KE) > 25 ise birey obez sınıfına girmektedir. Kütle endeksi kodunu yazınız.\n"
   ]
  },
  {
   "cell_type": "code",
   "execution_count": 76,
   "metadata": {},
   "outputs": [
    {
     "output_type": "stream",
     "name": "stdout",
     "text": "Zayıf:  0.2457786715184015\n"
    }
   ],
   "source": [
    "boy = float(input(\"Boy: \"))\n",
    "kilo = int(input(\"Kilo: \"))\n",
    "endeks =kilo/(boy**2)*100\n",
    "if (endeks<=18.5):\n",
    "    print(\"Zayıf: \" , endeks)\n",
    "elif(18.5<endeks<=25):\n",
    "    print(\"Normal\" , endeks)\n",
    "elif(25<endeks<30):\n",
    "    print(\"Kilolu\" , endeks)\n",
    "else:\n",
    "    (\"Aşırı Kilolu\")"
   ]
  },
  {
   "cell_type": "code",
   "execution_count": null,
   "metadata": {},
   "outputs": [],
   "source": [
    "# Çarpım Tablosu Python Örneği\n",
    "# Soru: Çarpım tablosunu ekrana yazan python kodunu yazınız."
   ]
  },
  {
   "cell_type": "code",
   "execution_count": 84,
   "metadata": {},
   "outputs": [
    {
     "output_type": "stream",
     "name": "stdout",
     "text": "1 * 1 = 1\n1 * 2 = 2\n1 * 3 = 3\n1 * 4 = 4\n1 * 5 = 5\n1 * 6 = 6\n1 * 7 = 7\n1 * 8 = 8\n1 * 9 = 9\n2 * 1 = 2\n2 * 2 = 4\n2 * 3 = 6\n2 * 4 = 8\n2 * 5 = 10\n2 * 6 = 12\n2 * 7 = 14\n2 * 8 = 16\n2 * 9 = 18\n3 * 1 = 3\n3 * 2 = 6\n3 * 3 = 9\n3 * 4 = 12\n3 * 5 = 15\n3 * 6 = 18\n3 * 7 = 21\n3 * 8 = 24\n3 * 9 = 27\n4 * 1 = 4\n4 * 2 = 8\n4 * 3 = 12\n4 * 4 = 16\n4 * 5 = 20\n4 * 6 = 24\n4 * 7 = 28\n4 * 8 = 32\n4 * 9 = 36\n5 * 1 = 5\n5 * 2 = 10\n5 * 3 = 15\n5 * 4 = 20\n5 * 5 = 25\n5 * 6 = 30\n5 * 7 = 35\n5 * 8 = 40\n5 * 9 = 45\n6 * 1 = 6\n6 * 2 = 12\n6 * 3 = 18\n6 * 4 = 24\n6 * 5 = 30\n6 * 6 = 36\n6 * 7 = 42\n6 * 8 = 48\n6 * 9 = 54\n7 * 1 = 7\n7 * 2 = 14\n7 * 3 = 21\n7 * 4 = 28\n7 * 5 = 35\n7 * 6 = 42\n7 * 7 = 49\n7 * 8 = 56\n7 * 9 = 63\n8 * 1 = 8\n8 * 2 = 16\n8 * 3 = 24\n8 * 4 = 32\n8 * 5 = 40\n8 * 6 = 48\n8 * 7 = 56\n8 * 8 = 64\n8 * 9 = 72\n9 * 1 = 9\n9 * 2 = 18\n9 * 3 = 27\n9 * 4 = 36\n9 * 5 = 45\n9 * 6 = 54\n9 * 7 = 63\n9 * 8 = 72\n9 * 9 = 81\n"
    }
   ],
   "source": [
    "for i in range(1,10):\n",
    "    for j in range(1,10):\n",
    "        print(\"{} * {} = {}\".format(i, j, i*j))"
   ]
  },
  {
   "cell_type": "code",
   "execution_count": null,
   "metadata": {},
   "outputs": [],
   "source": [
    "# Öğrenci No Ayırma Python Örneği\n",
    "# Soru: Öğrencilerine 12 haneli öğrenci numarası veren üniversitenin verdiği numaranın ilk 4 hanesi giriş yılı 5. ve 6.  hanesi okuduğu fakültenin numarası 7. ve 8. hane bölüm numarası 9. hanesi öğrenim numarası 11. ve 12. hane ise öğrencinin üniversiteye giriş sırasıdır. 12 haneli öğrenci kodunu kullanıcıdan alarak anlamlı şekilde ayıran kodu yazınız."
   ]
  },
  {
   "cell_type": "code",
   "execution_count": 100,
   "metadata": {},
   "outputs": [
    {
     "output_type": "stream",
     "name": "stdout",
     "text": "Numaranın açılımı: \ngiris_yili: 1234\nfakulte: 56\nbölüm: 78\nogr_no: 9\nsira: 23\n"
    }
   ],
   "source": [
    "okul_no = input(\"Okul Numaranızı giriniz: \")\n",
    "no = str(okul_no) \n",
    "okul_dict = dict(giris_yili = no[:4], fakulte = no[4:6], bölüm = no[6:8], ogr_no = no[8:9], sira = no[10:12])\n",
    "\n",
    "print(\"Numaranın açılımı: \")\n",
    "\n",
    "for i in okul_dict.items():\n",
    "    print(i[0] + \": \" + i[1])"
   ]
  },
  {
   "cell_type": "code",
   "execution_count": null,
   "metadata": {},
   "outputs": [],
   "source": [
    "# Üçgenin Tipini Bulan Python Örneği\n",
    "# Soru: Kullanıcının girdiği üç kenar bilgisine göre üçgenin tipini belirleyen eğer girilen kenarları uzunlukları bir üçgen oluşturmuyorsa bunu bildiren kodu yazınız. ( mutlak değer içinde iki kenarın farkı alınır eğer fark diğer kenardan büyükse girilen değerler üçgen oluşturmaz. Bu işlem tüm kenarlar için yapılır."
   ]
  },
  {
   "cell_type": "code",
   "execution_count": 21,
   "metadata": {},
   "outputs": [],
   "source": [
    "tip = int(input(\"Tipini bulmak istediğiniz şekil?(1-Üçgen, 2-Dikdörtgen\"))\n",
    "if(tip == 1):\n",
    "    \n",
    "    a = int(input(\"1.Kenar: \"))\n",
    "    b = int(input(\"2.Kenar: \"))\n",
    "    c = int(input(\"3.Kenar: \"))\n",
    "\n",
    "    if(abs(b-c)<a and a<(b+c) and abs(c-a)<b and b<(a+c) and abs(a-b)<c and c<(a+b)):\n",
    "        if(a==b and a!=c) or (a==c and a!=b) or (b==c and b!=a):\n",
    "            print(\"İkizkenar üçgen\")\n",
    "        elif(a==b==c):\n",
    "            print(\"Eşkenar Üçgen\")\n",
    "        else:\n",
    "            print(\"Normal Üçgen\")\n",
    "    else:\n",
    "        print(\"Girdiğiniz değerler üçgen oluşturmuyor!\") \n",
    "\n",
    "elif(tip == 2):\n",
    "    \n",
    "    a = int(input(\"1.Kenar: \"))\n",
    "    b = int(input(\"2.Kenar: \"))\n",
    "    c = int(input(\"3.Kenar: \"))\n",
    "    d = int(input(\"4.Kenar: \"))\n",
    "    \n",
    "    if(a==b==c==d):\n",
    "        print(\"Kare\")\n",
    "    elif(a==c) and (b==d):\n",
    "        print(\"Dikdörtgen\")\n",
    "    else:\n",
    "        print(\"Diğer dörtgen\")\n",
    "    \n",
    "else:\n",
    "    (\"Lütfen 1 veya 2'yi seçiniz!\")"
   ]
  },
  {
   "cell_type": "code",
   "execution_count": null,
   "metadata": {},
   "outputs": [],
   "source": []
  }
 ],
 "metadata": {
  "language_info": {
   "codemirror_mode": {
    "name": "ipython",
    "version": 3
   },
   "file_extension": ".py",
   "mimetype": "text/x-python",
   "name": "python",
   "nbconvert_exporter": "python",
   "pygments_lexer": "ipython3",
   "version": "3.7.6-final"
  },
  "orig_nbformat": 2,
  "kernelspec": {
   "name": "python3",
   "display_name": "Python 3"
  }
 },
 "nbformat": 4,
 "nbformat_minor": 2
}