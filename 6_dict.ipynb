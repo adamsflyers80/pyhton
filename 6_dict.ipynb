{
 "cells": [
  {
   "cell_type": "code",
   "execution_count": 1,
   "metadata": {},
   "outputs": [
    {
     "output_type": "stream",
     "name": "stdout",
     "text": "{'brand': 'Ford', 'model': 'Mustang', 'year': '1964'}\n"
    }
   ],
   "source": [
    "thisdict = { \"brand\" : \"Ford\", \"model\" : \"Mustang\" , \"year\" : \"1964\"}\n",
    "print(thisdict)"
   ]
  },
  {
   "cell_type": "code",
   "execution_count": 2,
   "metadata": {},
   "outputs": [
    {
     "output_type": "stream",
     "name": "stdout",
     "text": "Mustang\n"
    }
   ],
   "source": [
    "# Accessing Items\n",
    "x = thisdict[\"model\"]\n",
    "print(x)"
   ]
  },
  {
   "cell_type": "code",
   "execution_count": 6,
   "metadata": {},
   "outputs": [
    {
     "output_type": "stream",
     "name": "stdout",
     "text": "1964\n"
    }
   ],
   "source": [
    "y = thisdict.get(\"year\")\n",
    "print(y)"
   ]
  },
  {
   "cell_type": "code",
   "execution_count": 7,
   "metadata": {},
   "outputs": [
    {
     "output_type": "stream",
     "name": "stdout",
     "text": "{'brand': 'Ford', 'model': 'Mustang', 'year': 2018}\n"
    }
   ],
   "source": [
    "# Change Values\n",
    "thisdict[\"year\"] = 2018\n",
    "print(thisdict)"
   ]
  },
  {
   "cell_type": "code",
   "execution_count": 8,
   "metadata": {},
   "outputs": [
    {
     "output_type": "stream",
     "name": "stdout",
     "text": "brand\nmodel\nyear\n"
    }
   ],
   "source": [
    "# Loop Through a Dictionary :Print all key names in the dictionary, one by one:\n",
    "for i in thisdict:\n",
    "    print(i)"
   ]
  },
  {
   "cell_type": "code",
   "execution_count": 9,
   "metadata": {},
   "outputs": [
    {
     "output_type": "stream",
     "name": "stdout",
     "text": "Ford\nMustang\n2018\n"
    }
   ],
   "source": [
    "# Print all values in the dictionary, one by one:\n",
    "for i in thisdict:\n",
    "    print(thisdict[i])"
   ]
  },
  {
   "cell_type": "code",
   "execution_count": 12,
   "metadata": {},
   "outputs": [
    {
     "output_type": "stream",
     "name": "stdout",
     "text": "Ford\nMustang\n2018\n"
    }
   ],
   "source": [
    "# You can also use the values() method to return values of a dictionary:\n",
    "for i in thisdict.values():\n",
    "    print(i)"
   ]
  },
  {
   "cell_type": "code",
   "execution_count": 15,
   "metadata": {},
   "outputs": [
    {
     "output_type": "stream",
     "name": "stdout",
     "text": "brand Ford\nmodel Mustang\nyear 2018\n"
    }
   ],
   "source": [
    "# Loop through both keys and values, by using the items() method:\n",
    "for x,y in thisdict.items():\n",
    "    print(x,y)"
   ]
  },
  {
   "cell_type": "code",
   "execution_count": 16,
   "metadata": {},
   "outputs": [
    {
     "output_type": "stream",
     "name": "stdout",
     "text": "Yes, it is in\n"
    }
   ],
   "source": [
    "# Check if Key Exists\n",
    "if \"model\" in thisdict:\n",
    "    print(\"Yes, it is in\")\n",
    "else:\n",
    "    print(\"No!\"))"
   ]
  },
  {
   "cell_type": "code",
   "execution_count": 17,
   "metadata": {},
   "outputs": [
    {
     "output_type": "stream",
     "name": "stdout",
     "text": "3\n"
    }
   ],
   "source": [
    "# Dictionary Length\n",
    "print(len(thisdict))"
   ]
  },
  {
   "cell_type": "code",
   "execution_count": 19,
   "metadata": {},
   "outputs": [
    {
     "output_type": "stream",
     "name": "stdout",
     "text": "{'brand': 'Ford', 'model': 'Mustang', 'year': 2018, 'color': 'red'}\n"
    }
   ],
   "source": [
    "# Adding Items\n",
    "thisdict[\"color\"] = \"red\"\n",
    "print(thisdict)"
   ]
  },
  {
   "cell_type": "code",
   "execution_count": 20,
   "metadata": {},
   "outputs": [
    {
     "output_type": "stream",
     "name": "stdout",
     "text": "{'brand': 'Ford', 'year': 2018, 'color': 'red'}\n"
    }
   ],
   "source": [
    "# Removing Items\n",
    "# The pop() method removes the item with the specified key name:\n",
    "thisdict.pop(\"model\")\n",
    "print(thisdict)"
   ]
  },
  {
   "cell_type": "code",
   "execution_count": 21,
   "metadata": {},
   "outputs": [
    {
     "output_type": "stream",
     "name": "stdout",
     "text": "{'brand': 'Ford', 'year': 2018}\n"
    }
   ],
   "source": [
    "# The popitem() method removes the last inserted item (in versions before 3.7, a random item is removed instead):\n",
    "thisdict.popitem()\n",
    "print(thisdict)"
   ]
  },
  {
   "cell_type": "code",
   "execution_count": 23,
   "metadata": {},
   "outputs": [
    {
     "output_type": "stream",
     "name": "stdout",
     "text": "{'brand': 'Ford', 'year': 2018}\n"
    }
   ],
   "source": [
    "# Copy a Dictionary\n",
    "my_dict = thisdict.copy()\n",
    "print(my_dict)"
   ]
  },
  {
   "cell_type": "code",
   "execution_count": 24,
   "metadata": {},
   "outputs": [
    {
     "output_type": "stream",
     "name": "stdout",
     "text": "{'brand': 'Ford', 'year': 2018}\n"
    }
   ],
   "source": [
    "# Dict: Make a copy of a dictionary with the dict() function:\n",
    "mydict = dict(thisdict)\n",
    "print(mydict)"
   ]
  },
  {
   "cell_type": "code",
   "execution_count": 30,
   "metadata": {},
   "outputs": [
    {
     "output_type": "stream",
     "name": "stdout",
     "text": "{'child1': {'name': 'Mustafa', 'age': '11'}, 'child2': {'name': 'Levent', 'age': '7'}, 'child3': {'name: .....': 'age : 0'}}\n"
    }
   ],
   "source": [
    "# Nested Dictionaries\n",
    "myfamily = {\n",
    "     \"child1\": {\"name\":\"Mustafa\",\"age\":\"11\"},\n",
    "     \"child2\": {\"name\":\"Levent\",\"age\":\"7\"}, \n",
    "     \"child3\": {\"name: .....\": \"age : 0\"}}\n",
    "print(myfamily)"
   ]
  },
  {
   "cell_type": "code",
   "execution_count": 31,
   "metadata": {},
   "outputs": [
    {
     "output_type": "stream",
     "name": "stdout",
     "text": "{'child4': {'name': 'Kemal', 'age': '10'}, 'child5': {'name': 'Ponçik', 'age': '6'}, 'child6': {'name': '....', 'age': '1'}}\n"
    }
   ],
   "source": [
    "child4 = {\"name\":\"Kemal\",\"age\":\"10\"}\n",
    "child5 = {\"name\": \"Ponçik\",\"age\":\"6\"}\n",
    "child6 = {\"name\" :\"....\", \"age\":\"1\"}\n",
    "myfamily1 = { \"child4\": child4,\n",
    "              \"child5\": child5,\n",
    "              \"child6\": child6\n",
    "}\n",
    "print(myfamily1)"
   ]
  },
  {
   "cell_type": "code",
   "execution_count": 35,
   "metadata": {},
   "outputs": [
    {
     "output_type": "stream",
     "name": "stdout",
     "text": "{'brand': 'Ford', 'model': 'Mustang', 'year': 1964}\n"
    }
   ],
   "source": [
    "# The dict() Constructor: is also possible to use the dict() constructor to make a new dictionary\n",
    "thisdict = dict(brand = \"Ford\", model=\"Mustang\",year=1964)\n",
    "print(thisdict)"
   ]
  },
  {
   "cell_type": "code",
   "execution_count": 38,
   "metadata": {},
   "outputs": [
    {
     "output_type": "stream",
     "name": "stdout",
     "text": "{'brand': 'Ford', 'model': 'Mustang', 'year': 1964}\n"
    }
   ],
   "source": [
    "thisdict.values()\n",
    "print(thisdict)"
   ]
  },
  {
   "cell_type": "code",
   "execution_count": null,
   "metadata": {},
   "outputs": [],
   "source": []
  }
 ],
 "metadata": {
  "language_info": {
   "codemirror_mode": {
    "name": "ipython",
    "version": 3
   },
   "file_extension": ".py",
   "mimetype": "text/x-python",
   "name": "python",
   "nbconvert_exporter": "python",
   "pygments_lexer": "ipython3",
   "version": "3.7.6-final"
  },
  "orig_nbformat": 2,
  "kernelspec": {
   "name": "python3",
   "display_name": "Python 3"
  }
 },
 "nbformat": 4,
 "nbformat_minor": 2
}