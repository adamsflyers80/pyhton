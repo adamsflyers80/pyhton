{
 "cells": [
  {
   "cell_type": "code",
   "execution_count": 31,
   "metadata": {},
   "outputs": [
    {
     "output_type": "stream",
     "name": "stdout",
     "text": "[1, 2, 3, 3, 3, 4, 5, 5, 6, 7, 9, 9, 11, 15]\n5.0\n"
    }
   ],
   "source": [
    "nums1 = [3,6,1,5,11,15]\n",
    "nums2 = [7,3,4,9,2,5,9,3]\n",
    "\n",
    "toplam = sorted(nums1 + nums2)\n",
    "print(toplam)\n",
    "\n",
    "if len(toplam) %2  != 0:\n",
    "    print(toplam[len(toplam)//2])\n",
    "else:\n",
    "    print((toplam[int(len(toplam)/2)] + toplam[int((len(toplam)/2))-1])/2)"
   ]
  },
  {
   "cell_type": "code",
   "execution_count": 32,
   "metadata": {},
   "outputs": [
    {
     "output_type": "stream",
     "name": "stdout",
     "text": "30\n"
    }
   ],
   "source": [
    "my_list = [1,2,3,4]\n",
    "print(sum(x**2 for x in my_list))"
   ]
  },
  {
   "cell_type": "code",
   "execution_count": 10,
   "metadata": {},
   "outputs": [
    {
     "output_type": "error",
     "ename": "NameError",
     "evalue": "name 'my_list' is not defined",
     "traceback": [
      "\u001b[1;31m---------------------------------------------------------------------------\u001b[0m",
      "\u001b[1;31mNameError\u001b[0m                                 Traceback (most recent call last)",
      "\u001b[1;32m<ipython-input-10-171cbe157844>\u001b[0m in \u001b[0;36m<module>\u001b[1;34m\u001b[0m\n\u001b[0;32m      1\u001b[0m \u001b[0mbos\u001b[0m \u001b[1;33m=\u001b[0m \u001b[1;33m[\u001b[0m\u001b[1;33m]\u001b[0m\u001b[1;33m\u001b[0m\u001b[1;33m\u001b[0m\u001b[0m\n\u001b[1;32m----> 2\u001b[1;33m \u001b[1;32mfor\u001b[0m \u001b[0mi\u001b[0m \u001b[1;32min\u001b[0m \u001b[0mmy_list\u001b[0m\u001b[1;33m:\u001b[0m\u001b[1;33m\u001b[0m\u001b[1;33m\u001b[0m\u001b[0m\n\u001b[0m\u001b[0;32m      3\u001b[0m    \u001b[0mbos\u001b[0m\u001b[1;33m.\u001b[0m\u001b[0mappend\u001b[0m\u001b[1;33m(\u001b[0m\u001b[0mi\u001b[0m\u001b[1;33m**\u001b[0m\u001b[1;36m2\u001b[0m\u001b[1;33m)\u001b[0m\u001b[1;33m\u001b[0m\u001b[1;33m\u001b[0m\u001b[0m\n",
      "\u001b[1;31mNameError\u001b[0m: name 'my_list' is not defined"
     ]
    }
   ],
   "source": [
    "bos = []\n",
    "for i in my_list:\n",
    "   bos.append(i**2)"
   ]
  },
  {
   "cell_type": "code",
   "execution_count": 15,
   "metadata": {},
   "outputs": [
    {
     "output_type": "stream",
     "name": "stdout",
     "text": "adem\nadem nermin\nlevennt\n"
    }
   ],
   "source": [
    "isim = \"adem\"\n",
    "print(isim)\n",
    "isim += \" nermin\"\n",
    "print(isim)\n",
    "isim += \" kemal\"\n",
    "isim = \"levennt\"\n",
    "print(isim)"
   ]
  },
  {
   "cell_type": "code",
   "execution_count": 18,
   "metadata": {},
   "outputs": [
    {
     "output_type": "stream",
     "name": "stdout",
     "text": "True\n"
    }
   ],
   "source": [
    "adem = True\n",
    "nermin = True\n",
    "nevin = False\n",
    "isim = adem and nermin | nevin & adem\n",
    "print(isim)"
   ]
  },
  {
   "cell_type": "code",
   "execution_count": 22,
   "metadata": {},
   "outputs": [
    {
     "output_type": "stream",
     "name": "stdout",
     "text": "9\n"
    }
   ],
   "source": [
    "first = int(input(\"Birinci numarayı giriniz: \"))\n",
    "second = int(input(\"İkinci numarayı giriniz: \"))\n",
    "print(first + second)"
   ]
  },
  {
   "cell_type": "code",
   "execution_count": 31,
   "metadata": {},
   "outputs": [
    {
     "output_type": "stream",
     "name": "stdout",
     "text": "1605.7814764784307\n"
    }
   ],
   "source": [
    "n = int(input(\"Gün: \"))\n",
    "d = 1000\n",
    "d *=  1.07 ** n\n",
    "print(d) \n"
   ]
  },
  {
   "cell_type": "code",
   "execution_count": 36,
   "metadata": {},
   "outputs": [
    {
     "output_type": "stream",
     "name": "stdout",
     "text": "True\n"
    }
   ],
   "source": [
    "market = True\n",
    "ezine = True\n",
    "ıspanak = True\n",
    "lor = False\n",
    "börek = (ezine or süzme or lor) and (market and ıspanak)\n",
    "print(börek)"
   ]
  },
  {
   "cell_type": "code",
   "execution_count": 46,
   "metadata": {},
   "outputs": [
    {
     "output_type": "stream",
     "name": "stdout",
     "text": "u\n<class 'int'>\n"
    }
   ],
   "source": [
    "isim = \"istanbul\"[6]\n",
    "print(isim)\n",
    "print(type(len(isim[0])))"
   ]
  },
  {
   "cell_type": "code",
   "execution_count": 50,
   "metadata": {},
   "outputs": [
    {
     "output_type": "stream",
     "name": "stdout",
     "text": "4\n"
    }
   ],
   "source": [
    "a = 2\n",
    "print((-a)**2)"
   ]
  },
  {
   "cell_type": "code",
   "execution_count": 55,
   "metadata": {},
   "outputs": [
    {
     "output_type": "stream",
     "name": "stdout",
     "text": "\\\\\\\\\\\n"
    }
   ],
   "source": [
    "print(\"\\\\\" + \"\\\\\"*4)"
   ]
  },
  {
   "cell_type": "code",
   "execution_count": 56,
   "metadata": {},
   "outputs": [
    {
     "output_type": "stream",
     "name": "stdout",
     "text": "a y v a\n"
    }
   ],
   "source": [
    "print(*\"ayva\")"
   ]
  },
  {
   "cell_type": "code",
   "execution_count": 57,
   "metadata": {},
   "outputs": [],
   "source": [
    "list = list(\"ayva\")"
   ]
  },
  {
   "cell_type": "code",
   "execution_count": 13,
   "metadata": {},
   "outputs": [
    {
     "output_type": "stream",
     "name": "stdout",
     "text": "100 is not prime\n"
    }
   ],
   "source": [
    "number = 100\n",
    "is_prime = True\n",
    "for x in range(2,number):\n",
    "    if number %x ==0:\n",
    "        is_prime = False\n",
    "        \n",
    "if is_prime:\n",
    "    print(number, \"is prime\")\n",
    "else:\n",
    "    print(number, \"is not prime\")        \n"
   ]
  },
  {
   "cell_type": "code",
   "execution_count": 18,
   "metadata": {},
   "outputs": [
    {
     "output_type": "stream",
     "name": "stdout",
     "text": "[2, 3, 5, 7, 11, 13, 17, 19, 23, 29, 31, 37, 41, 43, 47, 53, 59, 61, 67, 71, 73, 79, 83, 89, 97]\n"
    }
   ],
   "source": [
    "asal_sayılar = []\n",
    "for i in range(2,100):\n",
    "    for b in range(2,i):\n",
    "        if (i%b==0):\n",
    "            break\n",
    "    else:\n",
    "        asal_sayılar.append(i)\n",
    "print(asal_sayılar)"
   ]
  },
  {
   "cell_type": "code",
   "execution_count": 1,
   "metadata": {},
   "outputs": [
    {
     "output_type": "stream",
     "name": "stdout",
     "text": "1\n2\nBuzz\n4\nFizz\nBuzz\n7\n8\nBuzz\nFizz\n11\nBuzz\n13\n14\nFizzBuzz\n16\n17\nBuzz\n19\nFizz\nBuzz\n22\n23\nBuzz\nFizz\n26\nBuzz\n28\n29\nFizzBuzz\n31\n32\nBuzz\n34\nFizz\nBuzz\n37\n38\nBuzz\nFizz\n41\nBuzz\n43\n44\nFizzBuzz\n46\n47\nBuzz\n49\nFizz\nBuzz\n52\n53\nBuzz\nFizz\n56\nBuzz\n58\n59\nFizzBuzz\n61\n62\nBuzz\n64\nFizz\nBuzz\n67\n68\nBuzz\nFizz\n71\nBuzz\n73\n74\nFizzBuzz\n76\n77\nBuzz\n79\nFizz\nBuzz\n82\n83\nBuzz\nFizz\n86\nBuzz\n88\n89\nFizzBuzz\n91\n92\nBuzz\n94\nFizz\nBuzz\n97\n98\nBuzz\nFizz\n"
    }
   ],
   "source": [
    "for num in range(1,101):\n",
    "    if num % 3 == 0 and num % 5 == 0:\n",
    "        print(\"FizzBuzz\")\n",
    "    elif num % 5 == 0:\n",
    "        print(\"Fizz\")\n",
    "    elif num % 3 == 0:\n",
    "        print(\"Buzz\")\n",
    "    else:\n",
    "        print(num)"
   ]
  },
  {
   "cell_type": "code",
   "execution_count": null,
   "metadata": {},
   "outputs": [],
   "source": [
    "menu = {\n",
    "    \"pizza\": {\"price\": 9.99, \"ingredients\": [\"dough\", \"sauce\", \"pepperoni\", \"cheese\"]},\n",
    "    \"sub\": {\"price\": 8.99, \"ingredients\": [\"chicken\", \"lettuce\", \"tomato\", \"bread\", \"mayonnaise\"]},\n",
    "    \"grilled cheese\": {\"price\": 5.99, \"ingredients\": [\"bread\", \"cheese\"]},\n",
    "    \"pasta\": {\"price\": 5.99, \"ingredients\": [\"sauce\", \"cheese\", \"pasta\", \"chicken\"]},\n",
    "    \"wings\": {\"price\": 10.99, \"ingredients\": [\"wings\", \"wingsauce\"]},\n",
    "    \"cookie\": {\"price\": 3.99, \"ingredients\": [\"cookie\"]},\n",
    "}\n",
    "fridge = [\"dough\", \"bread\", \"sauce\", \"lettuce\", \"tomatos\", \"wingsauce\", \"wings\",\"cheese\", \"pepperoni\", \"cookie\"]\n",
    "continue_order = True\n",
    "order_pending =[]\n",
    "order_started =False\n",
    "while continue_order :\n",
    "    customer_order = input(\"what would you like to order Enter (finish) to finish your order or menu to look at the menu : \")\n",
    "    customer_order = customer_order.lower().strip()\n",
    "    if customer_order== \"finish\": # Finish\n",
    "        continue_order = False\n",
    "    elif customer_order == \"menu\":\n",
    "        print(\"*************** MENU ***************\")\n",
    "        for item in menu.keys():\n",
    "            print(f\"{item} : {menu.get(item).get('price')}\")\n",
    "            print()\n",
    "        print(\"************************************\")\n",
    "    elif not current_order.isalpha():\n",
    "        order_started =True\n",
    "        print (f\"{customer_order} is not a valid entery please enter something from the menu\")\n",
    "    else:\n",
    "        order_started =True\n",
    "        order_pending.append(customer_order)\n",
    "        \n",
    "order_preparing=[]\n",
    "total_price = 0\n",
    "while order_pending:\n",
    "    current_order = order_pending.pop()\n",
    "    can_make_order = True\n",
    "    if current_order not in menu.keys():\n",
    "        print(f\"{current_order} not in our menu sorry \")\n",
    "        continue\n",
    "    for ingredient in menu.get(current_order).get(\"ingredients\"):\n",
    "        if ingredient not in fridge :\n",
    "            can_make_order =False\n",
    "            print(f\"we dont have {ingredient} sorry cant make your {current_order}\")\n",
    "            break\n",
    "    if can_make_order:\n",
    "        order_preparing.append(current_order)\n",
    "        total_price+= menu.get(current_order).get('price') \n",
    "if order_preparing:\n",
    "    print(f\"Your order of {order_preparing} is confirmed\\nYour order will be ready in {len(order_preparing)*10} minutes\\nYour total price will be {total_price*1.06}$\")      \n",
    "elif not order_started:\n",
    "    print(f\"Sorry to see you go , please come back again\")\n",
    "else:\n",
    "    print(f\"Sorry your order is not in our menu please try again\")\n"
   ]
  },
  {
   "cell_type": "code",
   "execution_count": 1,
   "metadata": {},
   "outputs": [
    {
     "output_type": "error",
     "ename": "NameError",
     "evalue": "name 'h' is not defined",
     "traceback": [
      "\u001b[1;31m---------------------------------------------------------------------------\u001b[0m",
      "\u001b[1;31mNameError\u001b[0m                                 Traceback (most recent call last)",
      "\u001b[1;32m<ipython-input-1-128377ed037f>\u001b[0m in \u001b[0;36m<module>\u001b[1;34m\u001b[0m\n\u001b[0;32m      5\u001b[0m \u001b[1;31m# hippo runs to us!\u001b[0m\u001b[1;33m\u001b[0m\u001b[1;33m\u001b[0m\u001b[1;33m\u001b[0m\u001b[0m\n\u001b[0;32m      6\u001b[0m \u001b[0msent\u001b[0m \u001b[1;33m=\u001b[0m \u001b[1;34m\"hippo runs to us!\"\u001b[0m\u001b[1;33m\u001b[0m\u001b[1;33m\u001b[0m\u001b[0m\n\u001b[1;32m----> 7\u001b[1;33m \u001b[0msent\u001b[0m\u001b[1;33m.\u001b[0m\u001b[0mrindex\u001b[0m\u001b[1;33m(\u001b[0m\u001b[0mh\u001b[0m\u001b[1;33m)\u001b[0m\u001b[1;33m\u001b[0m\u001b[1;33m\u001b[0m\u001b[0m\n\u001b[0m",
      "\u001b[1;31mNameError\u001b[0m: name 'h' is not defined"
     ]
    }
   ],
   "source": [
    "# Write a Python program that;\n",
    "# takes a sentence from the user,\n",
    "# counts the number of each letter of the sentence,\n",
    "# collects the letters/chars as a key and the counted numbers as a value in a dictionary.\n",
    "# hippo runs to us!\n",
    "sent = \"hippo runs to us!\"\n",
    "sent.rindex(h)"
   ]
  },
  {
   "cell_type": "code",
   "execution_count": null,
   "metadata": {},
   "outputs": [],
   "source": []
  }
 ],
 "metadata": {
  "language_info": {
   "codemirror_mode": {
    "name": "ipython",
    "version": 3
   },
   "file_extension": ".py",
   "mimetype": "text/x-python",
   "name": "python",
   "nbconvert_exporter": "python",
   "pygments_lexer": "ipython3",
   "version": "3.7.6-final"
  },
  "orig_nbformat": 2,
  "kernelspec": {
   "name": "python3",
   "display_name": "Python 3"
  }
 },
 "nbformat": 4,
 "nbformat_minor": 2
}